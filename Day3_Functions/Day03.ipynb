{
  "nbformat": 4,
  "nbformat_minor": 0,
  "metadata": {
    "colab": {
      "provenance": []
    },
    "kernelspec": {
      "name": "python3",
      "display_name": "Python 3"
    },
    "language_info": {
      "name": "python"
    }
  },
  "cells": [
    {
      "cell_type": "code",
      "execution_count": null,
      "metadata": {
        "id": "aLuEGOWZFg7m"
      },
      "outputs": [],
      "source": [
        "def function_name():\n",
        "    # Do something here"
      ]
    },
    {
      "cell_type": "code",
      "source": [
        "# create function to hello world\n",
        "def hello_world():\n",
        "  print(\"hello\")\n",
        "  print(\"class\")"
      ],
      "metadata": {
        "id": "-KL7LQlWGGZE"
      },
      "execution_count": 2,
      "outputs": []
    },
    {
      "cell_type": "code",
      "source": [
        "hello_world()"
      ],
      "metadata": {
        "colab": {
          "base_uri": "https://localhost:8080/"
        },
        "id": "_4TQ2XSHGdTh",
        "outputId": "fc1264a3-7efc-4ac9-cdcf-dd8aaf3b8829"
      },
      "execution_count": 3,
      "outputs": [
        {
          "output_type": "stream",
          "name": "stdout",
          "text": [
            "hello\n",
            "class\n"
          ]
        }
      ]
    },
    {
      "cell_type": "code",
      "source": [
        "def repitative_task():\n",
        "  pass\n",
        "  #steps which are recurring"
      ],
      "metadata": {
        "id": "EBx0CjjpGnQS"
      },
      "execution_count": 4,
      "outputs": []
    },
    {
      "cell_type": "code",
      "source": [
        "repitative_task()"
      ],
      "metadata": {
        "id": "koHMPpnKG0bd"
      },
      "execution_count": 5,
      "outputs": []
    },
    {
      "cell_type": "code",
      "source": [
        "#addition of two numbers\n",
        "#passing the parameters to a function\n",
        "def addition(a,b):\n",
        "  print(a+b)"
      ],
      "metadata": {
        "id": "tKci1QFoHc6d"
      },
      "execution_count": 6,
      "outputs": []
    },
    {
      "cell_type": "code",
      "source": [
        "addition(2,5)"
      ],
      "metadata": {
        "colab": {
          "base_uri": "https://localhost:8080/"
        },
        "id": "g0bJTWqrHpMd",
        "outputId": "edea1118-efd8-469d-f995-29ef8063cabc"
      },
      "execution_count": 7,
      "outputs": [
        {
          "output_type": "stream",
          "name": "stdout",
          "text": [
            "7\n"
          ]
        }
      ]
    },
    {
      "cell_type": "code",
      "source": [
        "def greet(name):\n",
        "    print(\"Hello, \" + name + \"!\")\n"
      ],
      "metadata": {
        "id": "04Y3QvmZHsBH"
      },
      "execution_count": 8,
      "outputs": []
    },
    {
      "cell_type": "code",
      "source": [
        "greet(\"Suresh\")"
      ],
      "metadata": {
        "colab": {
          "base_uri": "https://localhost:8080/"
        },
        "id": "4K57fcY6H8BT",
        "outputId": "bfa929d5-3bcd-4b6d-cd24-17cf154c4652"
      },
      "execution_count": 9,
      "outputs": [
        {
          "output_type": "stream",
          "name": "stdout",
          "text": [
            "Hello, Suresh!\n"
          ]
        }
      ]
    },
    {
      "cell_type": "code",
      "source": [
        "#addition of numbers\n",
        "def addi(a,b):\n",
        "  return a+b"
      ],
      "metadata": {
        "id": "FdBtXVFFIMiB"
      },
      "execution_count": 10,
      "outputs": []
    },
    {
      "cell_type": "code",
      "source": [
        "c=addi(2,5)"
      ],
      "metadata": {
        "id": "4v8F5bV2IWbI"
      },
      "execution_count": 11,
      "outputs": []
    },
    {
      "cell_type": "code",
      "source": [
        "print(c)"
      ],
      "metadata": {
        "colab": {
          "base_uri": "https://localhost:8080/"
        },
        "id": "Mobpx6htIbQP",
        "outputId": "5bcb367c-2dd4-4c2c-e5cd-b1f714bbf5da"
      },
      "execution_count": 12,
      "outputs": [
        {
          "output_type": "stream",
          "name": "stdout",
          "text": [
            "7\n"
          ]
        }
      ]
    },
    {
      "cell_type": "code",
      "source": [
        "def addi(a=0,b=0):\n",
        "  return a+b"
      ],
      "metadata": {
        "id": "bRQpAtHzIwGP"
      },
      "execution_count": 18,
      "outputs": []
    },
    {
      "cell_type": "code",
      "source": [
        "addi()"
      ],
      "metadata": {
        "colab": {
          "base_uri": "https://localhost:8080/"
        },
        "id": "jZwKGRq6IxKK",
        "outputId": "54b1a4c5-c098-4aba-959f-57ae8e94e34d"
      },
      "execution_count": 19,
      "outputs": [
        {
          "output_type": "execute_result",
          "data": {
            "text/plain": [
              "0"
            ]
          },
          "metadata": {},
          "execution_count": 19
        }
      ]
    },
    {
      "cell_type": "code",
      "source": [
        "list_numbers = [1,2,3,4,5,6,7]"
      ],
      "metadata": {
        "id": "Dgp75f4MJOpD"
      },
      "execution_count": 23,
      "outputs": []
    },
    {
      "cell_type": "code",
      "source": [
        "def addition_list(l):#l is a list of number\n",
        "  s = 1\n",
        "  for i in l:\n",
        "    print(\"i is \",i)\n",
        "    print(\"old s is \",s)\n",
        "    s = s*i\n",
        "    print(\"new s is \",s)\n",
        "  print(\"total is \",s)"
      ],
      "metadata": {
        "id": "bBGYVdVhJTFR"
      },
      "execution_count": 35,
      "outputs": []
    },
    {
      "cell_type": "code",
      "source": [
        "addition_list(list_numbers)"
      ],
      "metadata": {
        "colab": {
          "base_uri": "https://localhost:8080/"
        },
        "id": "ce35vhomKQi9",
        "outputId": "f74dedff-5f85-4151-8bef-1f6a6544d862"
      },
      "execution_count": 36,
      "outputs": [
        {
          "output_type": "stream",
          "name": "stdout",
          "text": [
            "i is  1\n",
            "old s is  1\n",
            "new s is  1\n",
            "i is  2\n",
            "old s is  1\n",
            "new s is  2\n",
            "i is  3\n",
            "old s is  2\n",
            "new s is  6\n",
            "i is  4\n",
            "old s is  6\n",
            "new s is  24\n",
            "i is  5\n",
            "old s is  24\n",
            "new s is  120\n",
            "i is  6\n",
            "old s is  120\n",
            "new s is  720\n",
            "i is  7\n",
            "old s is  720\n",
            "new s is  5040\n",
            "total is  5040\n"
          ]
        }
      ]
    },
    {
      "cell_type": "code",
      "source": [
        "\"\"\"\n",
        "1st time the of s is 0 and i is 1, the new s value is 0+1=1\n",
        "2nd time the value of s is 1 and i is 2, the new s value is 1+2=3"
      ],
      "metadata": {
        "id": "Y8Sx8lCJJvms"
      },
      "execution_count": null,
      "outputs": []
    },
    {
      "cell_type": "code",
      "source": [
        "def greet(name):\n",
        "    print(\"Hello, \" + name + \"!\")\n"
      ],
      "metadata": {
        "id": "2uI1OqFBLL8b"
      },
      "execution_count": 27,
      "outputs": []
    },
    {
      "cell_type": "code",
      "source": [
        "greet(\"Madhavi\")"
      ],
      "metadata": {
        "colab": {
          "base_uri": "https://localhost:8080/"
        },
        "id": "CXPOruL8LNN3",
        "outputId": "67b99c73-da70-4c45-a2aa-951f46ef0c45"
      },
      "execution_count": 28,
      "outputs": [
        {
          "output_type": "stream",
          "name": "stdout",
          "text": [
            "Hello, Madhavi!\n"
          ]
        }
      ]
    },
    {
      "cell_type": "code",
      "source": [
        "def add_numbers(num1, num2):\n",
        "    return num1 + num2\n",
        "\n",
        "\n",
        "result = add_numbers(7, 8)\n",
        "print(result)"
      ],
      "metadata": {
        "colab": {
          "base_uri": "https://localhost:8080/"
        },
        "id": "DRBm5JW5Le4i",
        "outputId": "98e16632-fa68-4228-f739-75f304ec6157"
      },
      "execution_count": 29,
      "outputs": [
        {
          "output_type": "stream",
          "name": "stdout",
          "text": [
            "15\n"
          ]
        }
      ]
    },
    {
      "cell_type": "code",
      "source": [
        "#Write a function that takes three numbers and returns the largest one.\n",
        "def largest(num1,num2,num3):\n",
        "  if num1>num2:# comparing num1 and num2 and find bigger one of those both\n",
        "    if num1>num3:# comparing the bigger one with num3\n",
        "      return num1\n",
        "    else:\n",
        "      return num3\n",
        "  else:\n",
        "    if num2>num3:\n",
        "      return num2\n",
        "    else:\n",
        "      return num3"
      ],
      "metadata": {
        "id": "hJNARbj_Lqql"
      },
      "execution_count": 31,
      "outputs": []
    },
    {
      "cell_type": "code",
      "source": [
        "bignum = largest(3,2,5)"
      ],
      "metadata": {
        "id": "NAWY65XvMhFT"
      },
      "execution_count": 33,
      "outputs": []
    },
    {
      "cell_type": "code",
      "source": [
        "print(bignum)"
      ],
      "metadata": {
        "colab": {
          "base_uri": "https://localhost:8080/"
        },
        "id": "JBGJYF85MzPg",
        "outputId": "427e32de-9d76-46fa-ccde-451ef31866ff"
      },
      "execution_count": 34,
      "outputs": [
        {
          "output_type": "stream",
          "name": "stdout",
          "text": [
            "5\n"
          ]
        }
      ]
    }
  ]
}