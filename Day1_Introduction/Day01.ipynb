{
  "nbformat": 4,
  "nbformat_minor": 0,
  "metadata": {
    "colab": {
      "provenance": []
    },
    "kernelspec": {
      "name": "python3",
      "display_name": "Python 3"
    },
    "language_info": {
      "name": "python"
    }
  },
  "cells": [
    {
      "cell_type": "markdown",
      "source": [
        "##Slide 7: Basic Syntax"
      ],
      "metadata": {
        "id": "gv9cZn0VFbE-"
      }
    },
    {
      "cell_type": "code",
      "source": [
        "# Print statements\n",
        "print(\"Hello, World!\")\n",
        "print(\"Python is fun!\")\n",
        "\n",
        "# Comments\n",
        "# This is a single-line comment\n",
        "# hello world\n",
        "\n",
        "\"\"\"jhkfdsjhk\n",
        "jkfds\n",
        "\"\"\"\n",
        "\n",
        "\"\"\"\n",
        "This is a multi-line comment\n",
        "that spans multiple lines\n",
        "\"\"\"\n",
        "\n",
        "print(\"Comments are useful for documentation.\")\n",
        "\n",
        "# Arithmetic operations\n",
        "print(5 + 3)    # Addition\n",
        "print(10 - 2)   # Subtraction\n",
        "print(4 * 7)    # Multiplication\n",
        "print(8 / 2)    # Division\n",
        "\n",
        "+,-,*, /, %"
      ],
      "metadata": {
        "colab": {
          "base_uri": "https://localhost:8080/"
        },
        "id": "veHMjxVnFme-",
        "outputId": "63310d10-2044-472e-a74d-00ba018fc127"
      },
      "execution_count": null,
      "outputs": [
        {
          "output_type": "stream",
          "name": "stdout",
          "text": [
            "Hello, World!\n",
            "Python is fun!\n",
            "Comments are useful for documentation.\n",
            "8\n",
            "8\n",
            "28\n",
            "4.0\n"
          ]
        }
      ]
    },
    {
      "cell_type": "markdown",
      "source": [
        "##Slide 8: Variables and Data Types\n",
        "\n"
      ],
      "metadata": {
        "id": "-pAiqg7HFvB7"
      }
    },
    {
      "cell_type": "code",
      "source": [
        "name = \"Alice\"\n",
        "age = 25\n",
        "height = 5.5\n",
        "is_student = True\n",
        "\n",
        "print(name)\n",
        "print(age)\n",
        "print(height)\n",
        "print(is_student)\n",
        "\n",
        "name = 5\n",
        "print(name)\n"
      ],
      "metadata": {
        "colab": {
          "base_uri": "https://localhost:8080/"
        },
        "id": "nZpOr2VrFyGq",
        "outputId": "0ebc1872-bd78-4851-ba56-07674f1d5065"
      },
      "execution_count": null,
      "outputs": [
        {
          "output_type": "stream",
          "name": "stdout",
          "text": [
            "Alice\n",
            "25\n",
            "5.5\n",
            "True\n",
            "5\n"
          ]
        }
      ]
    },
    {
      "cell_type": "markdown",
      "source": [
        "###Explanation:\n",
        "* Variables: Containers for storing data values.\n",
        "* Data Types: int (integer), float (floating-point number), str (string), bool (boolean).\n",
        "\n",
        "\n",
        "\n"
      ],
      "metadata": {
        "id": "T40_dhVwFz0K"
      }
    },
    {
      "cell_type": "markdown",
      "source": [
        "##Slide 8: Input and Output"
      ],
      "metadata": {
        "id": "rt5P1yc9Nacw"
      }
    },
    {
      "cell_type": "code",
      "source": [
        "user_name = input(\"Enter your name: \")\n",
        "print(\"Hello, \" + user_name + \"!\")"
      ],
      "metadata": {
        "colab": {
          "base_uri": "https://localhost:8080/"
        },
        "id": "1zbPXkhoNfM3",
        "outputId": "83ceec0d-28a9-427e-ef1f-db3c0fa07a14"
      },
      "execution_count": null,
      "outputs": [
        {
          "output_type": "stream",
          "name": "stdout",
          "text": [
            "Enter your name: ads\n",
            "Hello, ads!\n"
          ]
        }
      ]
    },
    {
      "cell_type": "markdown",
      "source": [
        "###Explanation:\n",
        "* input(): Function to take input from the user.\n",
        "* print(): Function to display output.\n"
      ],
      "metadata": {
        "id": "8mCZvDOTNhp9"
      }
    },
    {
      "cell_type": "markdown",
      "source": [
        "##Day 1 Coding Problems\n"
      ],
      "metadata": {
        "id": "0j4cs435Nmtk"
      }
    },
    {
      "cell_type": "markdown",
      "source": [
        "###Hello, World!\n",
        "Problem: Write a program that prints \"Hello, World!\"."
      ],
      "metadata": {
        "id": "yJ_1uc2rNvN-"
      }
    },
    {
      "cell_type": "code",
      "source": [
        "print(\"Hello, World!\")\n"
      ],
      "metadata": {
        "colab": {
          "base_uri": "https://localhost:8080/"
        },
        "id": "y_9ftvx0N59t",
        "outputId": "d8459d06-b4ff-4f1e-9edb-474f8b2f050e"
      },
      "execution_count": null,
      "outputs": [
        {
          "output_type": "stream",
          "name": "stdout",
          "text": [
            "Hello, World!\n"
          ]
        }
      ]
    },
    {
      "cell_type": "markdown",
      "source": [
        "###Basic Arithmetic\n",
        "Problem: Write a program that performs basic arithmetic operations (addition, subtraction, multiplication, division) and prints the results.\n"
      ],
      "metadata": {
        "id": "amMsB6QHN7eo"
      }
    },
    {
      "cell_type": "code",
      "source": [
        "print(10 + 5)   # Addition\n",
        "print(10 - 5)   # Subtraction\n",
        "print(10 * 5)   # Multiplication\n",
        "print(10 / 5)   # Division\n"
      ],
      "metadata": {
        "colab": {
          "base_uri": "https://localhost:8080/"
        },
        "id": "HmWhCfgvN_aq",
        "outputId": "03b060ec-a559-4075-f03a-fccc31cdc4ca"
      },
      "execution_count": null,
      "outputs": [
        {
          "output_type": "stream",
          "name": "stdout",
          "text": [
            "15\n",
            "5\n",
            "50\n",
            "2.0\n"
          ]
        }
      ]
    },
    {
      "cell_type": "markdown",
      "source": [
        "###Variable Assignment\n",
        "Problem: Write a program that assigns values to variables and prints them."
      ],
      "metadata": {
        "id": "fAH7uTIGOA1B"
      }
    },
    {
      "cell_type": "code",
      "source": [
        "name = \"Alice\"\n",
        "age = 25\n",
        "height = 5.5\n",
        "is_student = True\n",
        "\n",
        "print(\"Name:\", name)\n",
        "print(\"Age:\", age)\n",
        "print(\"Height:\", height)\n",
        "print(\"Is student:\", is_student)\n"
      ],
      "metadata": {
        "colab": {
          "base_uri": "https://localhost:8080/"
        },
        "id": "892o9Xx0OHRj",
        "outputId": "fb8025bc-69e1-4547-c219-89e3f084d688"
      },
      "execution_count": null,
      "outputs": [
        {
          "output_type": "stream",
          "name": "stdout",
          "text": [
            "Name: Alice\n",
            "Age: 25\n",
            "Height: 5.5\n",
            "Is student: True\n"
          ]
        }
      ]
    },
    {
      "cell_type": "markdown",
      "source": [
        "###User Input\n",
        "Problem: Write a program that asks the user for their name and greets them."
      ],
      "metadata": {
        "id": "jNCWQE_lOKei"
      }
    },
    {
      "cell_type": "code",
      "source": [
        "user_name = input(\"Enter your name: \")\n",
        "print(\"Hello, \" + user_name + \"!\")\n"
      ],
      "metadata": {
        "colab": {
          "base_uri": "https://localhost:8080/"
        },
        "id": "3jBGNh6YON1_",
        "outputId": "2aee328c-76e8-434c-be30-e0db2c72299d"
      },
      "execution_count": null,
      "outputs": [
        {
          "output_type": "stream",
          "name": "stdout",
          "text": [
            "Enter your name: asd\n",
            "Hello, asd!\n"
          ]
        }
      ]
    },
    {
      "cell_type": "markdown",
      "source": [
        "###Simple Calculator\n",
        "Problem: Write a program that takes two numbers as input from the user and performs addition, subtraction, multiplication, and division on them. Print the results."
      ],
      "metadata": {
        "id": "WeAfTF7zOQit"
      }
    },
    {
      "cell_type": "code",
      "source": [
        "num1 = float(input(\"Enter first number: \"))\n",
        "num2 = float(input(\"Enter second number: \"))\n",
        "\n",
        "print(\"Addition:\", num1 + num2)\n",
        "print(\"Subtraction:\", num1 - num2)\n",
        "print(\"Multiplication:\", num1 * num2)\n",
        "print(\"Division:\", num1 / num2)\n"
      ],
      "metadata": {
        "colab": {
          "base_uri": "https://localhost:8080/"
        },
        "id": "6m9d7rFDOTMq",
        "outputId": "48e816d8-c57a-4263-88e4-1e0e078a20a3"
      },
      "execution_count": null,
      "outputs": [
        {
          "output_type": "stream",
          "name": "stdout",
          "text": [
            "Enter first number: 12\n",
            "Enter second number: 23\n",
            "Addition: 35.0\n",
            "Subtraction: -11.0\n",
            "Multiplication: 276.0\n",
            "Division: 0.5217391304347826\n"
          ]
        }
      ]
    }
  ]
}