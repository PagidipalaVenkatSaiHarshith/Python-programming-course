{
  "nbformat": 4,
  "nbformat_minor": 0,
  "metadata": {
    "colab": {
      "provenance": []
    },
    "kernelspec": {
      "name": "python3",
      "display_name": "Python 3"
    },
    "language_info": {
      "name": "python"
    }
  },
  "cells": [
    {
      "cell_type": "code",
      "execution_count": null,
      "metadata": {
        "colab": {
          "base_uri": "https://localhost:8080/"
        },
        "id": "Xyh0TIt-8eAJ",
        "outputId": "fa011ddc-cc78-4d2e-a750-fc1fe1e8801b"
      },
      "outputs": [
        {
          "output_type": "stream",
          "name": "stdout",
          "text": [
            "Wear a raincoat!\n",
            "outside if statement\n"
          ]
        }
      ],
      "source": [
        "weather = \"rainy\"\n",
        "\n",
        "if weather == \"sunny\":\n",
        "    print(\"Wear shorts!\")\n",
        "    print(\"check statement\")\n",
        "    print(\"hello\")\n",
        "elif weather == \"rainy\":\n",
        "    print(\"Wear a raincoat!\")\n",
        "elif weather == \"cold\":\n",
        "    print(\"waer a sweater\")\n",
        "else:\n",
        "    print(\"Wear a normal clothes!\")\n",
        "print(\"outside if statement\")"
      ]
    },
    {
      "cell_type": "code",
      "source": [
        "weather = \"wind\"\n",
        "temperature = \"cold\"\n",
        "\n",
        "if weather == \"sunny\":\n",
        "    if temperature == \"hot\":\n",
        "        print(\"Wear shorts!\")\n",
        "    else:\n",
        "        print(\"Wear a light jacket!\")\n",
        "else:\n",
        "    if weather == \"rainy\":\n",
        "        print(\"Take an umbrella!\")\n",
        "    else:\n",
        "        print(\"Wear something normal!\")\n"
      ],
      "metadata": {
        "colab": {
          "base_uri": "https://localhost:8080/"
        },
        "id": "AJu64Tcj9OVn",
        "outputId": "611100a4-543a-43fb-f379-90cf52236562"
      },
      "execution_count": null,
      "outputs": [
        {
          "output_type": "stream",
          "name": "stdout",
          "text": [
            "Wear something normal!\n"
          ]
        }
      ]
    },
    {
      "cell_type": "code",
      "source": [],
      "metadata": {
        "colab": {
          "base_uri": "https://localhost:8080/",
          "height": 105
        },
        "id": "vD8mTRaI_pM0",
        "outputId": "ffa3e07d-cd99-4f3b-899c-98d6b7d21471"
      },
      "execution_count": null,
      "outputs": [
        {
          "output_type": "error",
          "ename": "SyntaxError",
          "evalue": "invalid syntax (<ipython-input-10-801e126827a8>, line 1)",
          "traceback": [
            "\u001b[0;36m  File \u001b[0;32m\"<ipython-input-10-801e126827a8>\"\u001b[0;36m, line \u001b[0;32m1\u001b[0m\n\u001b[0;31m    elif weather==\"rainy\":\u001b[0m\n\u001b[0m    ^\u001b[0m\n\u001b[0;31mSyntaxError\u001b[0m\u001b[0;31m:\u001b[0m invalid syntax\n"
          ]
        }
      ]
    },
    {
      "cell_type": "code",
      "source": [
        "if weather==\"sunny\":\n",
        "  print(\"shorts\")\n",
        "else:\n",
        "  print(\"normal\")"
      ],
      "metadata": {
        "colab": {
          "base_uri": "https://localhost:8080/"
        },
        "id": "jjVZpeSm_2Bk",
        "outputId": "5eb82671-d915-45fb-e720-dbaf7d591092"
      },
      "execution_count": null,
      "outputs": [
        {
          "output_type": "stream",
          "name": "stdout",
          "text": [
            "normal\n"
          ]
        }
      ]
    },
    {
      "cell_type": "code",
      "source": [
        "2==4"
      ],
      "metadata": {
        "colab": {
          "base_uri": "https://localhost:8080/"
        },
        "id": "q8HtLvjcAQC0",
        "outputId": "300358ea-5bbc-4968-a08b-a24be8ba5166"
      },
      "execution_count": null,
      "outputs": [
        {
          "output_type": "execute_result",
          "data": {
            "text/plain": [
              "False"
            ]
          },
          "metadata": {},
          "execution_count": 12
        }
      ]
    },
    {
      "cell_type": "code",
      "source": [
        "2==2"
      ],
      "metadata": {
        "colab": {
          "base_uri": "https://localhost:8080/"
        },
        "id": "eH_AoUeFARCG",
        "outputId": "b6340071-11dd-4067-999a-d10eadfc9aff"
      },
      "execution_count": null,
      "outputs": [
        {
          "output_type": "execute_result",
          "data": {
            "text/plain": [
              "True"
            ]
          },
          "metadata": {},
          "execution_count": 13
        }
      ]
    },
    {
      "cell_type": "code",
      "source": [
        "a=12\n",
        "b=14\n",
        "\n",
        "if a==b:\n",
        "  print(\"yes\")\n",
        "else\n",
        "  print(\"no\")"
      ],
      "metadata": {
        "colab": {
          "base_uri": "https://localhost:8080/",
          "height": 105
        },
        "id": "J22Rts0HASpW",
        "outputId": "81f29786-075d-4fe0-aa41-ca6ebe1a051d"
      },
      "execution_count": null,
      "outputs": [
        {
          "output_type": "error",
          "ename": "SyntaxError",
          "evalue": "expected ':' (<ipython-input-21-00a2b7246224>, line 6)",
          "traceback": [
            "\u001b[0;36m  File \u001b[0;32m\"<ipython-input-21-00a2b7246224>\"\u001b[0;36m, line \u001b[0;32m6\u001b[0m\n\u001b[0;31m    else\u001b[0m\n\u001b[0m        ^\u001b[0m\n\u001b[0;31mSyntaxError\u001b[0m\u001b[0;31m:\u001b[0m expected ':'\n"
          ]
        }
      ]
    },
    {
      "cell_type": "code",
      "source": [
        "a!=b"
      ],
      "metadata": {
        "colab": {
          "base_uri": "https://localhost:8080/"
        },
        "id": "RdtU9N7JAsX1",
        "outputId": "3dfed676-6c79-49e3-f29f-73edf2f7fb3f"
      },
      "execution_count": null,
      "outputs": [
        {
          "output_type": "execute_result",
          "data": {
            "text/plain": [
              "True"
            ]
          },
          "metadata": {},
          "execution_count": 15
        }
      ]
    },
    {
      "cell_type": "code",
      "source": [
        "a>b"
      ],
      "metadata": {
        "colab": {
          "base_uri": "https://localhost:8080/"
        },
        "id": "Nh0fSjkdBD_i",
        "outputId": "c1899818-037b-4bd0-91bc-196f3998ca32"
      },
      "execution_count": null,
      "outputs": [
        {
          "output_type": "execute_result",
          "data": {
            "text/plain": [
              "False"
            ]
          },
          "metadata": {},
          "execution_count": 16
        }
      ]
    },
    {
      "cell_type": "code",
      "source": [
        "a<b"
      ],
      "metadata": {
        "colab": {
          "base_uri": "https://localhost:8080/"
        },
        "id": "O03VQIgeBHwu",
        "outputId": "d1a3ed32-15fc-4e92-b67f-11d08332e7e4"
      },
      "execution_count": null,
      "outputs": [
        {
          "output_type": "execute_result",
          "data": {
            "text/plain": [
              "True"
            ]
          },
          "metadata": {},
          "execution_count": 17
        }
      ]
    },
    {
      "cell_type": "code",
      "source": [
        "a<=b"
      ],
      "metadata": {
        "colab": {
          "base_uri": "https://localhost:8080/"
        },
        "id": "49yru_5HBLGH",
        "outputId": "d5559dfd-205c-41dc-d6a5-405b3cb88629"
      },
      "execution_count": null,
      "outputs": [
        {
          "output_type": "execute_result",
          "data": {
            "text/plain": [
              "True"
            ]
          },
          "metadata": {},
          "execution_count": 18
        }
      ]
    },
    {
      "cell_type": "code",
      "source": [
        "a=12\n",
        "b=12\n",
        "a<=b"
      ],
      "metadata": {
        "colab": {
          "base_uri": "https://localhost:8080/"
        },
        "id": "svOX1jgyBNeP",
        "outputId": "1699a8e4-6347-417c-d94f-54935193b965"
      },
      "execution_count": null,
      "outputs": [
        {
          "output_type": "execute_result",
          "data": {
            "text/plain": [
              "True"
            ]
          },
          "metadata": {},
          "execution_count": 19
        }
      ]
    },
    {
      "cell_type": "code",
      "source": [
        "a>=b"
      ],
      "metadata": {
        "colab": {
          "base_uri": "https://localhost:8080/"
        },
        "id": "J_SHDSI1BSGD",
        "outputId": "3cbe97a3-9fac-48aa-dcdc-bd8576979801"
      },
      "execution_count": null,
      "outputs": [
        {
          "output_type": "execute_result",
          "data": {
            "text/plain": [
              "True"
            ]
          },
          "metadata": {},
          "execution_count": 20
        }
      ]
    },
    {
      "cell_type": "code",
      "source": [
        "from re import X\n",
        "if <condition> :\n",
        "  if the above condition is true these below will Execute\n",
        "  a\n",
        "  v\n",
        "  c\n",
        "\n",
        "else:\n",
        "  these will execute\n",
        "  abs\n",
        "  b\n",
        "  X\n"
      ],
      "metadata": {
        "id": "HIEmKjdIBXZN"
      },
      "execution_count": null,
      "outputs": []
    },
    {
      "cell_type": "code",
      "source": [
        "age = 12\n",
        "\n",
        "if age >= 13:\n",
        "    print(\"You can watch a PG-13 movie!\")\n",
        "else:\n",
        "    print(\"You are too young to watch a PG-13 movie.\")\n",
        "\n"
      ],
      "metadata": {
        "colab": {
          "base_uri": "https://localhost:8080/"
        },
        "id": "k3qe9oS5CrcT",
        "outputId": "950e75b0-41b6-468a-b9ca-86686ec68197"
      },
      "execution_count": null,
      "outputs": [
        {
          "output_type": "stream",
          "name": "stdout",
          "text": [
            "You are too young to watch a PG-13 movie.\n"
          ]
        }
      ]
    },
    {
      "cell_type": "code",
      "source": [
        "print(\"hi\")\n",
        "print(\"hi\")\n",
        "print(\"hi\")\n",
        "print(\"hi\")\n",
        "print(\"hi\")"
      ],
      "metadata": {
        "colab": {
          "base_uri": "https://localhost:8080/"
        },
        "id": "O7sRIcEcDQvh",
        "outputId": "707ae251-1e14-42c0-b3ac-6d3f94340ed6"
      },
      "execution_count": null,
      "outputs": [
        {
          "output_type": "stream",
          "name": "stdout",
          "text": [
            "hi\n",
            "hi\n",
            "hi\n",
            "hi\n",
            "hi\n"
          ]
        }
      ]
    },
    {
      "cell_type": "code",
      "source": [
        "for i in range(5):\n",
        "  print(\"hi\")"
      ],
      "metadata": {
        "colab": {
          "base_uri": "https://localhost:8080/"
        },
        "id": "EsY6Mkj-DaYT",
        "outputId": "f4e02498-6252-4ebe-f965-5a5f1ad70038"
      },
      "execution_count": null,
      "outputs": [
        {
          "output_type": "stream",
          "name": "stdout",
          "text": [
            "hi\n",
            "hi\n",
            "hi\n",
            "hi\n",
            "hi\n"
          ]
        }
      ]
    },
    {
      "cell_type": "code",
      "source": [
        "for loop and while loop"
      ],
      "metadata": {
        "id": "5NV2s23yDdCS"
      },
      "execution_count": null,
      "outputs": []
    },
    {
      "cell_type": "code",
      "source": [
        "# List of fruits\n",
        "fruits = [\"apple\", \"banana\", \"cherry\"]\n",
        "\n",
        "# Loop through each fruit and print it\n",
        "for x in fruits:\n",
        "    print(x)\n",
        "    print(\"hi\")\n",
        "\n",
        "print(\"end loop\")\n"
      ],
      "metadata": {
        "colab": {
          "base_uri": "https://localhost:8080/"
        },
        "id": "KYGUbc8pEbMm",
        "outputId": "2e764f7e-bf2e-413a-e5fc-ef8269c90348"
      },
      "execution_count": null,
      "outputs": [
        {
          "output_type": "stream",
          "name": "stdout",
          "text": [
            "apple\n",
            "hi\n",
            "banana\n",
            "hi\n",
            "cherry\n",
            "hi\n",
            "end loop\n"
          ]
        }
      ]
    },
    {
      "cell_type": "code",
      "source": [
        "number = 1\n",
        "\n",
        "while number <= 5:#6<=5 as this is false\n",
        "    print(number)\n",
        "    print(\"hello\")\n",
        "    number = 2 + 1 # number = 2 + 1 the new value of number will become 3\n",
        "    #new value number is 3\n",
        "    #last itiration number = 5+1 ie 6\n",
        "print(\"end loop\")\n"
      ],
      "metadata": {
        "colab": {
          "base_uri": "https://localhost:8080/"
        },
        "id": "0qkRuPPrFVaJ",
        "outputId": "f8db1c27-5a7e-44b2-b0a8-3d1902121f06"
      },
      "execution_count": null,
      "outputs": [
        {
          "output_type": "stream",
          "name": "stdout",
          "text": [
            "1\n",
            "hello\n",
            "2\n",
            "hello\n",
            "3\n",
            "hello\n",
            "4\n",
            "hello\n",
            "5\n",
            "hello\n",
            "end loop\n"
          ]
        }
      ]
    },
    {
      "cell_type": "code",
      "source": [
        "number = 1\n",
        "number = number + 1\n",
        "print(number)"
      ],
      "metadata": {
        "colab": {
          "base_uri": "https://localhost:8080/"
        },
        "id": "UZ372rluGx2g",
        "outputId": "34acf071-5aaa-4649-d739-3e1960979a38"
      },
      "execution_count": null,
      "outputs": [
        {
          "output_type": "stream",
          "name": "stdout",
          "text": [
            "2\n"
          ]
        }
      ]
    },
    {
      "cell_type": "code",
      "source": [
        "var = \"value\"\n",
        "var = var + \"value\"\n",
        "#interpretation of python\n",
        "var = \"value\" + \"value\"\n",
        "\n",
        "var"
      ],
      "metadata": {
        "id": "beQQgLqTG9ix"
      },
      "execution_count": null,
      "outputs": []
    },
    {
      "cell_type": "code",
      "source": [
        "for i in range(1,6):\n",
        "  print(i)"
      ],
      "metadata": {
        "colab": {
          "base_uri": "https://localhost:8080/"
        },
        "id": "zdHxfg2MIVFJ",
        "outputId": "4b4c50ce-0731-49c8-bf9f-4828e2f5cc19"
      },
      "execution_count": null,
      "outputs": [
        {
          "output_type": "stream",
          "name": "stdout",
          "text": [
            "1\n",
            "2\n",
            "3\n",
            "4\n",
            "5\n"
          ]
        }
      ]
    },
    {
      "cell_type": "code",
      "source": [
        "#range(a,b)=[a, a+1,a+2,....,b-1] condition to remember for range a<b"
      ],
      "metadata": {
        "id": "qROsHT4RId0u"
      },
      "execution_count": null,
      "outputs": []
    },
    {
      "cell_type": "code",
      "source": [
        "for i in range(1, 6):\n",
        "    print(i)#1st statment\n",
        "    break#2nd statment\n",
        "    print(i)#3rd statment\n",
        "#outside side the loop\n",
        "\n",
        "print(\"end loop\")\n"
      ],
      "metadata": {
        "colab": {
          "base_uri": "https://localhost:8080/"
        },
        "id": "zJb08VSMITTX",
        "outputId": "c8ee0f12-f3a8-4a1b-e1cb-10c05fbefadc"
      },
      "execution_count": null,
      "outputs": [
        {
          "output_type": "stream",
          "name": "stdout",
          "text": [
            "1\n",
            "end loop\n"
          ]
        }
      ]
    },
    {
      "cell_type": "code",
      "source": [
        "# continue example\n",
        "for i in range(1, 6):\n",
        "    if i == 3:\n",
        "        print(\"now i is 3\")\n",
        "        continue  # Skips printing 3 and goes to the next number\n",
        "    print(i)\n",
        "    print(\"hello\")\n"
      ],
      "metadata": {
        "colab": {
          "base_uri": "https://localhost:8080/"
        },
        "id": "OOyQtgcJJ_Vd",
        "outputId": "2d637eb0-078d-428b-8248-a8a172c35712"
      },
      "execution_count": null,
      "outputs": [
        {
          "output_type": "stream",
          "name": "stdout",
          "text": [
            "1\n",
            "2\n",
            "now i is 3\n",
            "4\n",
            "5\n"
          ]
        }
      ]
    },
    {
      "cell_type": "code",
      "source": [
        "for i in range(1,6):\n",
        "  print(i)# 1st\n",
        "  print(\"hi\")#2nd\n",
        "  continue#3rd\n",
        "  print(\"hello\")#4th"
      ],
      "metadata": {
        "colab": {
          "base_uri": "https://localhost:8080/"
        },
        "id": "r6jiMydFKVyr",
        "outputId": "9e0fd9d2-c1e0-48ac-950b-8c55fe1bf733"
      },
      "execution_count": null,
      "outputs": [
        {
          "output_type": "stream",
          "name": "stdout",
          "text": [
            "1\n",
            "hi\n",
            "2\n",
            "hi\n",
            "3\n",
            "hi\n",
            "4\n",
            "hi\n",
            "5\n",
            "hi\n"
          ]
        }
      ]
    },
    {
      "cell_type": "code",
      "source": [
        "for i in range(1, 6):\n",
        "    if i == 3:\n",
        "        pass  # Does nothing special when i is 3\n",
        "    print(i)\n"
      ],
      "metadata": {
        "colab": {
          "base_uri": "https://localhost:8080/"
        },
        "id": "2nV7NvAaKXmN",
        "outputId": "4357329e-df85-4f2b-e20b-502fb4ee5f81"
      },
      "execution_count": null,
      "outputs": [
        {
          "output_type": "stream",
          "name": "stdout",
          "text": [
            "1\n",
            "2\n",
            "3\n",
            "4\n",
            "5\n"
          ]
        }
      ]
    },
    {
      "cell_type": "code",
      "source": [
        "for i in range(1,6):\n",
        "  pass"
      ],
      "metadata": {
        "id": "TnSgR7sjK8q7"
      },
      "execution_count": null,
      "outputs": []
    },
    {
      "cell_type": "code",
      "source": [
        "if a<b:\n",
        "  pass"
      ],
      "metadata": {
        "id": "_mJ3gIVHK_kJ"
      },
      "execution_count": null,
      "outputs": []
    },
    {
      "cell_type": "code",
      "source": [
        "#conditional statement that if, elif, else\n",
        "# conditional operators ==,!=, <, >, <=, >=\n",
        "#loops for, while\n",
        "#loop control statements those are break, continue, pass"
      ],
      "metadata": {
        "id": "GNM8xX_GLDzX"
      },
      "execution_count": null,
      "outputs": []
    },
    {
      "cell_type": "code",
      "source": [],
      "metadata": {
        "id": "k9IpRl6ILWuP"
      },
      "execution_count": null,
      "outputs": []
    }
  ]
}